{
 "cells": [
  {
   "cell_type": "code",
   "execution_count": null,
   "id": "a36b1146",
   "metadata": {},
   "outputs": [],
   "source": [
    "!pip install requests"
   ]
  },
  {
   "cell_type": "code",
   "execution_count": null,
   "id": "8a28b7bc",
   "metadata": {},
   "outputs": [],
   "source": [
    "import requests\n",
    "\n",
    "def download_file(url, filename):\n",
    "    # Send a HTTP request to the server and save the HTTP response in a response object called r\n",
    "    with requests.get(url, stream=True) as r:\n",
    "        r.raise_for_status()  # Check for errors\n",
    "        # Open a local file with write-binary mode\n",
    "        with open(filename, 'wb') as f:\n",
    "            for chunk in r.iter_content(chunk_size=8192): \n",
    "                # Write the contents of the response (r.content) to a new file in binary mode.\n",
    "                f.write(chunk)\n",
    "\n",
    "# URLs of the YOLOv3 weights and config\n",
    "weights_url = \"https://pjreddie.com/media/files/yolov3.weights\"\n",
    "cfg_url = \"https://raw.githubusercontent.com/pjreddie/darknet/master/cfg/yolov3.cfg\"\n",
    "\n",
    "# File paths to save weights and config\n",
    "weights_path = \"yolov3.weights\"\n",
    "cfg_path = \"yolov3.cfg\"\n",
    "\n",
    "# Download files\n",
    "download_file(weights_url, weights_path)\n",
    "download_file(cfg_url, cfg_path)\n"
   ]
  }
 ],
 "metadata": {
  "kernelspec": {
   "display_name": "csci6366",
   "language": "python",
   "name": "csci6366"
  },
  "language_info": {
   "codemirror_mode": {
    "name": "ipython",
    "version": 3
   },
   "file_extension": ".py",
   "mimetype": "text/x-python",
   "name": "python",
   "nbconvert_exporter": "python",
   "pygments_lexer": "ipython3",
   "version": "3.10.13"
  }
 },
 "nbformat": 4,
 "nbformat_minor": 5
}
